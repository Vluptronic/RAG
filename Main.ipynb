{
 "cells": [
  {
   "cell_type": "code",
   "execution_count": 1,
   "id": "24225a88",
   "metadata": {},
   "outputs": [],
   "source": [
    "from langchain.document_loaders import UnstructuredFileLoader\n",
    "\n",
    "files = [\"report.docx\"]\n",
    "docs = []\n",
    "\n",
    "for file in files:\n",
    "    loader = UnstructuredFileLoader(file)\n",
    "    docs.extend(loader.load())\n"
   ]
  },
  {
   "cell_type": "code",
   "execution_count": 2,
   "id": "9504cfd4",
   "metadata": {},
   "outputs": [],
   "source": [
    "from langchain.text_splitter import RecursiveCharacterTextSplitter\n",
    "\n",
    "splitter = RecursiveCharacterTextSplitter(chunk_size=500, chunk_overlap=100)\n",
    "chunks = splitter.split_documents(docs)\n"
   ]
  },
  {
   "cell_type": "code",
   "execution_count": null,
   "id": "725250f0",
   "metadata": {},
   "outputs": [],
   "source": [
    "from langchain.embeddings import OpenAIEmbeddings\n",
    "import os\n",
    "import getpass\n",
    "os.environ[\"OPENAI_API_KEY\"]=getpass.getpass()\n"
   ]
  },
  {
   "cell_type": "code",
   "execution_count": 4,
   "id": "680f155a",
   "metadata": {},
   "outputs": [],
   "source": [
    "from langchain.vectorstores import FAISS\n",
    "\n",
    "vectorstore = FAISS.from_documents(chunks, embedding)\n",
    "vectorstore.save_local(\"rag_index\")\n"
   ]
  },
  {
   "cell_type": "code",
   "execution_count": 5,
   "id": "ec37d62e",
   "metadata": {},
   "outputs": [],
   "source": [
    "vectorstore = FAISS.load_local(\"rag_index\", embedding)\n"
   ]
  },
  {
   "cell_type": "code",
   "execution_count": 8,
   "id": "00913f8e",
   "metadata": {},
   "outputs": [
    {
     "name": "stdout",
     "output_type": "stream",
     "text": [
      "The Treaty of Tordesillas divided the world between Spain and Portugal. Spain engaged in settler colonialism, involving the exportation of a large population from the home country, conquest, and subjugation of local populations, and the establishment of new colonial governments. This led to the widespread use of the Spanish language and a strong connection with European political developments, such as nationalism, which eventually influenced their colonies' push for independence.\n",
      "\n",
      "Portugal, on the other hand, practiced trader or \"elite\" colonialism, where it established ties with favored local rulers to secure trading rights and safe ports in exchange for support. This strategy led to the creation of new trading routes and patterns across Asia but did not have a significant cultural influence on the local populations. The local elites, often educated in the metropole, would later adopt national principles.\n"
     ]
    }
   ],
   "source": [
    "from langchain.chains import RetrievalQA\n",
    "from langchain.chat_models import ChatOpenAI\n",
    "\n",
    "llm = ChatOpenAI(model=\"gpt-4-turbo\")\n",
    "qa = RetrievalQA.from_chain_type(llm=llm,\n",
    "                                  retriever=vectorstore.as_retriever(),\n",
    "                                  chain_type=\"stuff\")\n",
    "\n",
    "query = \" The Treaty of Tordesillas (1494) divided the world between two empires.  Name the two empires, then briefly describe the differences between their styles of imperialism and the resultant long-term differences in their impact on local peoples.   \"\n",
    "response = qa.run(query)\n",
    "print(response)\n"
   ]
  }
 ],
 "metadata": {
  "kernelspec": {
   "display_name": "aizip",
   "language": "python",
   "name": "python3"
  },
  "language_info": {
   "codemirror_mode": {
    "name": "ipython",
    "version": 3
   },
   "file_extension": ".py",
   "mimetype": "text/x-python",
   "name": "python",
   "nbconvert_exporter": "python",
   "pygments_lexer": "ipython3",
   "version": "3.11.9"
  }
 },
 "nbformat": 4,
 "nbformat_minor": 5
}
